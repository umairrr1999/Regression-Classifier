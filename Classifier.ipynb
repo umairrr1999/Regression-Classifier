{
 "cells": [
  {
   "cell_type": "code",
   "execution_count": 2,
   "metadata": {},
   "outputs": [
    {
     "name": "stdout",
     "output_type": "stream",
     "text": [
      "[7 3 9 3 4 5 0 8 2 9 6 8 1 5 7]\n"
     ]
    }
   ],
   "source": [
    "import numpy as np\n",
    "import pandas as pd\n",
    "noise = np.random.randint(0,10,15)\n",
    "print(noise)\n"
   ]
  },
  {
   "cell_type": "code",
   "execution_count": 3,
   "metadata": {},
   "outputs": [
    {
     "data": {
      "text/plain": [
       "array([ 0.        ,  0.71428571,  1.42857143,  2.14285714,  2.85714286,\n",
       "        3.57142857,  4.28571429,  5.        ,  5.71428571,  6.42857143,\n",
       "        7.14285714,  7.85714286,  8.57142857,  9.28571429, 10.        ])"
      ]
     },
     "execution_count": 3,
     "metadata": {},
     "output_type": "execute_result"
    }
   ],
   "source": [
    "import numpy as np\n",
    "x_data = np.linspace(0.0,10.0,15)\n",
    "x_data"
   ]
  },
  {
   "cell_type": "code",
   "execution_count": 4,
   "metadata": {},
   "outputs": [
    {
     "name": "stdout",
     "output_type": "stream",
     "text": [
      "[12.          8.35714286 14.71428571  9.07142857 10.42857143 11.78571429\n",
      "  7.14285714 15.5         9.85714286 17.21428571 14.57142857 16.92857143\n",
      " 10.28571429 14.64285714 17.        ]\n"
     ]
    }
   ],
   "source": [
    "y_true = (0.5 * x_data) + 5 + noise\n",
    "print(y_true)"
   ]
  },
  {
   "cell_type": "code",
   "execution_count": 5,
   "metadata": {},
   "outputs": [
    {
     "name": "stdout",
     "output_type": "stream",
     "text": [
      "       x-data\n",
      "0    0.000000\n",
      "1    0.714286\n",
      "2    1.428571\n",
      "3    2.142857\n",
      "4    2.857143\n",
      "5    3.571429\n",
      "6    4.285714\n",
      "7    5.000000\n",
      "8    5.714286\n",
      "9    6.428571\n",
      "10   7.142857\n",
      "11   7.857143\n",
      "12   8.571429\n",
      "13   9.285714\n",
      "14  10.000000\n"
     ]
    }
   ],
   "source": [
    "xd=pd.DataFrame(data=x_data,columns=[\"x-data\"])\n",
    "print(xd)"
   ]
  },
  {
   "cell_type": "code",
   "execution_count": 6,
   "metadata": {},
   "outputs": [
    {
     "name": "stdout",
     "output_type": "stream",
     "text": [
      "[3 3 9 0 1 8 0 3]\n"
     ]
    }
   ],
   "source": [
    "ran = np.random.randint(0,10,8)\n",
    "print(ran)"
   ]
  },
  {
   "cell_type": "code",
   "execution_count": 7,
   "metadata": {
    "scrolled": true
   },
   "outputs": [
    {
     "name": "stdout",
     "output_type": "stream",
     "text": [
      "[ 0.          0.71428571  1.42857143  2.14285714  2.85714286  3.57142857\n",
      "  4.28571429  5.          5.71428571  6.42857143  7.14285714  7.85714286\n",
      "  8.57142857  9.28571429 10.        ]\n",
      "[ 0.79691358 -0.64856287 -2.20523438 -0.03788121 -1.7540636  -1.47755677\n",
      "  0.57520707 -1.53511437 -1.09027611  0.40854119 -0.06275783  0.129027\n",
      " -1.8043604   1.1819852  -0.39354365]\n",
      "[ 5.79691358  4.70857998  3.50905133  6.03354736  4.67450783  5.30815752\n",
      "  7.71806421  5.96488563  6.76686675  8.6228269   8.50867075  9.05759843\n",
      "  7.48135388 10.82484235  9.60645635]\n",
      "       X_Data\n",
      "0    0.000000\n",
      "1    0.714286\n",
      "2    1.428571\n",
      "3    2.142857\n",
      "4    2.857143\n",
      "5    3.571429\n",
      "6    4.285714\n",
      "7    5.000000\n",
      "8    5.714286\n",
      "9    6.428571\n",
      "10   7.142857\n",
      "11   7.857143\n",
      "12   8.571429\n",
      "13   9.285714\n",
      "14  10.000000\n",
      "            Y\n",
      "0    5.796914\n",
      "1    4.708580\n",
      "2    3.509051\n",
      "3    6.033547\n",
      "4    4.674508\n",
      "5    5.308158\n",
      "6    7.718064\n",
      "7    5.964886\n",
      "8    6.766867\n",
      "9    8.622827\n",
      "10   8.508671\n",
      "11   9.057598\n",
      "12   7.481354\n",
      "13  10.824842\n",
      "14   9.606456\n"
     ]
    }
   ],
   "source": [
    "import matplotlib.pyplot as plt\n",
    "import pandas as pd\n",
    "import tensorflow as tf\n",
    "x_data = np.linspace(0.0,10.0,15)\n",
    "print(x_data)\n",
    "noise = np.random.randn(len(x_data))\n",
    "print(noise)\n",
    "y_true = (0.5 * x_data) + 5 + noise\n",
    "print(y_true)\n",
    "\n",
    "x_df = pd.DataFrame(data = x_data, columns=['X_Data'])\n",
    "print(x_df)\n",
    "y_df = pd.DataFrame(data = y_true, columns=['Y'])\n",
    "print(y_df)\n",
    "my_data = pd.concat([x_df,y_df],axis=1)"
   ]
  },
  {
   "cell_type": "code",
   "execution_count": 8,
   "metadata": {},
   "outputs": [
    {
     "name": "stdout",
     "output_type": "stream",
     "text": [
      "       X_Data          Y     X_Data          Y    X_Data2         Y2\n",
      "0    0.000000   4.796752   0.000000   4.796752   1.000000   5.296752\n",
      "1    0.714286   4.744233   0.714286   4.744233   1.642857   5.208519\n",
      "2    1.428571   6.882635   1.428571   6.882635   2.285714   7.311207\n",
      "3    2.142857   5.920518   2.142857   5.920518   2.928571   6.313375\n",
      "4    2.857143   6.992709   2.857143   6.992709   3.571429   7.349852\n",
      "5    3.571429   6.762450   3.571429   6.762450   4.214286   7.083879\n",
      "6    4.285714   6.416217   4.285714   6.416217   4.857143   6.701931\n",
      "7    5.000000   6.501887   5.000000   6.501887   5.500000   6.751887\n",
      "8    5.714286   6.191080   5.714286   6.191080   6.142857   6.405365\n",
      "9    6.428571   8.233455   6.428571   8.233455   6.785714   8.412027\n",
      "10   7.142857   8.423685   7.142857   8.423685   7.428571   8.566542\n",
      "11   7.857143   9.435208   7.857143   9.435208   8.071429   9.542351\n",
      "12   8.571429   9.290125   8.571429   9.290125   8.714286   9.361554\n",
      "13   9.285714  11.095056   9.285714  11.095056   9.357143  11.130771\n",
      "14  10.000000  10.330598  10.000000  10.330598  10.000000  10.330598\n"
     ]
    }
   ],
   "source": [
    "import matplotlib.pyplot as plt\n",
    "import pandas as pd\n",
    "import tensorflow as tf\n",
    "x_data = np.linspace(0.0,10.0,15)\n",
    "x_data2 = np.linspace(1.0,10.0,15)\n",
    "\n",
    "noise = np.random.randn(len(x_data))\n",
    "\n",
    "y_true = (0.5 * x_data) + 5 + noise\n",
    "y_true2 = (0.5 * x_data2) + 5 + noise\n",
    "\n",
    "x_df = pd.DataFrame(data = x_data, columns=['X_Data'])\n",
    "x_df2 = pd.DataFrame(data = x_data2, columns=['X_Data2'])\n",
    "y_df = pd.DataFrame(data = y_true, columns=['Y'])\n",
    "y_df2 = pd.DataFrame(data = y_true2, columns=['Y2'])\n",
    "\n",
    "my_data = pd.concat([x_df,y_df,x_df,y_df,x_df2,y_df2],axis=1)\n",
    "print(my_data)"
   ]
  },
  {
   "cell_type": "code",
   "execution_count": 9,
   "metadata": {},
   "outputs": [
    {
     "name": "stdout",
     "output_type": "stream",
     "text": [
      "           Y         Y         Y\n",
      "0   4.372656  4.372656  4.372656\n",
      "1   6.522012  6.522012  6.522012\n",
      "2   6.151728  6.151728  6.151728\n",
      "3   7.824792  7.824792  7.824792\n",
      "4   7.065760  7.065760  7.065760\n",
      "5   6.581463  6.581463  6.581463\n",
      "6   6.293012  6.293012  6.293012\n",
      "7   7.308793  7.308793  7.308793\n",
      "8   7.401449  7.401449  7.401449\n",
      "9   9.397882  9.397882  9.397882\n",
      "10  8.562772  8.562772  8.562772\n",
      "11  8.315055  8.315055  8.315055\n",
      "12  7.870259  7.870259  7.870259\n",
      "13  9.501664  9.501664  9.501664\n",
      "14  8.646689  8.646689  8.646689\n"
     ]
    }
   ],
   "source": [
    "import matplotlib.pyplot as plt\n",
    "import pandas as pd\n",
    "import tensorflow as tf\n",
    "x_data = np.linspace(0.0,10.0,15)\n",
    "\n",
    "noise = np.random.randn(len(x_data))\n",
    "\n",
    "y_true = (0.5 * x_data) + 5 + noise\n",
    "\n",
    "\n",
    "x_df = pd.DataFrame(data = x_data, columns=['X_Data'])\n",
    "\n",
    "y_df = pd.DataFrame(data = y_true, columns=['Y'])\n",
    "\n",
    "my_data = pd.concat([x_df,y_df,x_df,y_df,x_df,y_df],axis=1)\n",
    "\n",
    "my_data2=my_data.drop('X_Data',axis=1)\n",
    "print(my_data2)"
   ]
  },
  {
   "cell_type": "code",
   "execution_count": 10,
   "metadata": {},
   "outputs": [
    {
     "data": {
      "text/plain": [
       "<matplotlib.axes._subplots.AxesSubplot at 0x2107cb812c8>"
      ]
     },
     "execution_count": 10,
     "metadata": {},
     "output_type": "execute_result"
    },
    {
     "data": {
      "image/png": "[encoded data removed]",
      "text/plain": [
       "<Figure size 432x288 with 1 Axes>"
      ]
     },
     "metadata": {
      "needs_background": "light"
     },
     "output_type": "display_data"
    }
   ],
   "source": [
    "import matplotlib.pyplot as plt\n",
    "import pandas as pd\n",
    "import tensorflow as tf\n",
    "x_data = np.linspace(0.0,10.0,15)\n",
    "x_data2 = np.linspace(1.0,10.0,15)\n",
    "\n",
    "noise = np.random.randn(len(x_data))\n",
    "\n",
    "y_true = (0.5 * x_data) + 5 + noise\n",
    "y_true2 = (0.5 * x_data2) + 5 + noise\n",
    "\n",
    "x_df = pd.DataFrame(data = x_data, columns=['X_Data'])\n",
    "x_df2 = pd.DataFrame(data = x_data2, columns=['X_Data2'])\n",
    "y_df = pd.DataFrame(data = y_true, columns=['Y'])\n",
    "y_df2 = pd.DataFrame(data = y_true2, columns=['Y2'])\n",
    "\n",
    "my_data = pd.concat([x_df,y_df,x_df,y_df,x_df2,y_df2],axis=1)\n",
    "\n",
    "my_data['X_Data2'].hist(bins=10)\n",
    "\n"
   ]
  },
  {
   "cell_type": "code",
   "execution_count": 11,
   "metadata": {},
   "outputs": [],
   "source": [
    "from sklearn.model_selection import train_test_split\n",
    "X_train, X_test, y_train, y_test = train_test_split(my_data,x_df,test_size=0.33, random_state=105)\n"
   ]
  },
  {
   "cell_type": "code",
   "execution_count": 12,
   "metadata": {},
   "outputs": [
    {
     "data": {
      "text/html": [
       "<div>\n",
       "<style scoped>\n",
       "    .dataframe tbody tr th:only-of-type {\n",
       "        vertical-align: middle;\n",
       "    }\n",
       "\n",
       "    .dataframe tbody tr th {\n",
       "        vertical-align: top;\n",
       "    }\n",
       "\n",
       "    .dataframe thead th {\n",
       "        text-align: right;\n",
       "    }\n",
       "</style>\n",
       "<table border=\"1\" class=\"dataframe\">\n",
       "  <thead>\n",
       "    <tr style=\"text-align: right;\">\n",
       "      <th></th>\n",
       "      <th>X_Data</th>\n",
       "      <th>Y</th>\n",
       "      <th>X_Data</th>\n",
       "      <th>Y</th>\n",
       "      <th>X_Data2</th>\n",
       "      <th>Y2</th>\n",
       "    </tr>\n",
       "  </thead>\n",
       "  <tbody>\n",
       "    <tr>\n",
       "      <th>7</th>\n",
       "      <td>5.000000</td>\n",
       "      <td>7.586850</td>\n",
       "      <td>5.000000</td>\n",
       "      <td>7.586850</td>\n",
       "      <td>5.500000</td>\n",
       "      <td>7.836850</td>\n",
       "    </tr>\n",
       "    <tr>\n",
       "      <th>8</th>\n",
       "      <td>5.714286</td>\n",
       "      <td>7.026996</td>\n",
       "      <td>5.714286</td>\n",
       "      <td>7.026996</td>\n",
       "      <td>6.142857</td>\n",
       "      <td>7.241282</td>\n",
       "    </tr>\n",
       "    <tr>\n",
       "      <th>10</th>\n",
       "      <td>7.142857</td>\n",
       "      <td>10.143330</td>\n",
       "      <td>7.142857</td>\n",
       "      <td>10.143330</td>\n",
       "      <td>7.428571</td>\n",
       "      <td>10.286187</td>\n",
       "    </tr>\n",
       "    <tr>\n",
       "      <th>11</th>\n",
       "      <td>7.857143</td>\n",
       "      <td>9.309122</td>\n",
       "      <td>7.857143</td>\n",
       "      <td>9.309122</td>\n",
       "      <td>8.071429</td>\n",
       "      <td>9.416265</td>\n",
       "    </tr>\n",
       "    <tr>\n",
       "      <th>14</th>\n",
       "      <td>10.000000</td>\n",
       "      <td>9.785739</td>\n",
       "      <td>10.000000</td>\n",
       "      <td>9.785739</td>\n",
       "      <td>10.000000</td>\n",
       "      <td>9.785739</td>\n",
       "    </tr>\n",
       "  </tbody>\n",
       "</table>\n",
       "</div>"
      ],
      "text/plain": [
       "       X_Data          Y     X_Data          Y    X_Data2         Y2\n",
       "7    5.000000   7.586850   5.000000   7.586850   5.500000   7.836850\n",
       "8    5.714286   7.026996   5.714286   7.026996   6.142857   7.241282\n",
       "10   7.142857  10.143330   7.142857  10.143330   7.428571  10.286187\n",
       "11   7.857143   9.309122   7.857143   9.309122   8.071429   9.416265\n",
       "14  10.000000   9.785739  10.000000   9.785739  10.000000   9.785739"
      ]
     },
     "execution_count": 12,
     "metadata": {},
     "output_type": "execute_result"
    }
   ],
   "source": [
    "X_train.head()\n"
   ]
  },
  {
   "cell_type": "code",
   "execution_count": 13,
   "metadata": {
    "scrolled": false
   },
   "outputs": [
    {
     "name": "stdout",
     "output_type": "stream",
     "text": [
      "INFO:tensorflow:Using default config.\n",
      "WARNING:tensorflow:Using temporary folder as model directory: C:\\Users\\SUPERS~1\\AppData\\Local\\Temp\\tmp0vktogi2\n",
      "INFO:tensorflow:Using config: {'_model_dir': 'C:\\\\Users\\\\SUPERS~1\\\\AppData\\\\Local\\\\Temp\\\\tmp0vktogi2', '_tf_random_seed': None, '_save_summary_steps': 100, '_save_checkpoints_steps': None, '_save_checkpoints_secs': 600, '_session_config': allow_soft_placement: true\n",
      "graph_options {\n",
      "  rewrite_options {\n",
      "    meta_optimizer_iterations: ONE\n",
      "  }\n",
      "}\n",
      ", '_keep_checkpoint_max': 5, '_keep_checkpoint_every_n_hours': 10000, '_log_step_count_steps': 100, '_train_distribute': None, '_device_fn': None, '_protocol': None, '_eval_distribute': None, '_experimental_distribute': None, '_experimental_max_worker_delay_secs': None, '_service': None, '_cluster_spec': <tensorflow.python.training.server_lib.ClusterSpec object at 0x000002100196EA48>, '_task_type': 'worker', '_task_id': 0, '_global_id_in_cluster': 0, '_master': '', '_evaluation_master': '', '_is_chief': True, '_num_ps_replicas': 0, '_num_worker_replicas': 1}\n"
     ]
    }
   ],
   "source": [
    "feat_cols=[x_df,y_df,x_df2,y_df2]\n",
    "input_func = tf.estimator.inputs.pandas_input_fn(x=X_train,y=y_train, batch_size=5,num_epochs=500,shuffle=True)\n",
    "model = tf.estimator.LinearClassifier(feature_columns=feat_cols, n_classes=2)\n",
    "# model.train(input_fn=input_func, steps=10)\n",
    "\n",
    "\n"
   ]
  },
  {
   "cell_type": "code",
   "execution_count": 14,
   "metadata": {},
   "outputs": [
    {
     "name": "stdout",
     "output_type": "stream",
     "text": [
      "INFO:tensorflow:Using default config.\n",
      "WARNING:tensorflow:Using temporary folder as model directory: C:\\Users\\SUPERS~1\\AppData\\Local\\Temp\\tmpowvwhddv\n",
      "INFO:tensorflow:Using config: {'_model_dir': 'C:\\\\Users\\\\SUPERS~1\\\\AppData\\\\Local\\\\Temp\\\\tmpowvwhddv', '_tf_random_seed': None, '_save_summary_steps': 100, '_save_checkpoints_steps': None, '_save_checkpoints_secs': 600, '_session_config': allow_soft_placement: true\n",
      "graph_options {\n",
      "  rewrite_options {\n",
      "    meta_optimizer_iterations: ONE\n",
      "  }\n",
      "}\n",
      ", '_keep_checkpoint_max': 5, '_keep_checkpoint_every_n_hours': 10000, '_log_step_count_steps': 100, '_train_distribute': None, '_device_fn': None, '_protocol': None, '_eval_distribute': None, '_experimental_distribute': None, '_experimental_max_worker_delay_secs': None, '_service': None, '_cluster_spec': <tensorflow.python.training.server_lib.ClusterSpec object at 0x000002107FD6D608>, '_task_type': 'worker', '_task_id': 0, '_global_id_in_cluster': 0, '_master': '', '_evaluation_master': '', '_is_chief': True, '_num_ps_replicas': 0, '_num_worker_replicas': 1}\n"
     ]
    }
   ],
   "source": [
    "dnn_model=tf.estimator.DNNClassifier(hidden_units=[10,10,10],feature_columns=feat_cols,n_classes=2)\n",
    "# dnn_model.train(input_fn=input_func,steps=5)"
   ]
  },
  {
   "cell_type": "code",
   "execution_count": 15,
   "metadata": {},
   "outputs": [
    {
     "name": "stdout",
     "output_type": "stream",
     "text": [
      "INFO:tensorflow:Using default config.\n",
      "WARNING:tensorflow:Using temporary folder as model directory: C:\\Users\\SUPERS~1\\AppData\\Local\\Temp\\tmpy5axvuq7\n",
      "INFO:tensorflow:Using config: {'_model_dir': 'C:\\\\Users\\\\SUPERS~1\\\\AppData\\\\Local\\\\Temp\\\\tmpy5axvuq7', '_tf_random_seed': None, '_save_summary_steps': 100, '_save_checkpoints_steps': None, '_save_checkpoints_secs': 600, '_session_config': allow_soft_placement: true\n",
      "graph_options {\n",
      "  rewrite_options {\n",
      "    meta_optimizer_iterations: ONE\n",
      "  }\n",
      "}\n",
      ", '_keep_checkpoint_max': 5, '_keep_checkpoint_every_n_hours': 10000, '_log_step_count_steps': 100, '_train_distribute': None, '_device_fn': None, '_protocol': None, '_eval_distribute': None, '_experimental_distribute': None, '_experimental_max_worker_delay_secs': None, '_service': None, '_cluster_spec': <tensorflow.python.training.server_lib.ClusterSpec object at 0x0000021001996788>, '_task_type': 'worker', '_task_id': 0, '_global_id_in_cluster': 0, '_master': '', '_evaluation_master': '', '_is_chief': True, '_num_ps_replicas': 0, '_num_worker_replicas': 1}\n",
      "<tensorflow_estimator.python.estimator.canned.linear.LinearClassifier object at 0x000002100196E648>\n"
     ]
    }
   ],
   "source": [
    "\n",
    "input_func = tf.estimator.inputs.pandas_input_fn(x=X_train,y=y_train, batch_size=5,num_epochs=500,shuffle=True)\n",
    "model = tf.estimator.LinearClassifier(feature_columns=feat_cols, n_classes=2)\n",
    "print(model)"
   ]
  },
  {
   "cell_type": "code",
   "execution_count": 16,
   "metadata": {},
   "outputs": [
    {
     "name": "stdout",
     "output_type": "stream",
     "text": [
      "<tensorflow_estimator.python.estimator.canned.linear.LinearClassifier object at 0x000002100196E648>\n"
     ]
    }
   ],
   "source": [
    "print(model)"
   ]
  },
  {
   "cell_type": "code",
   "execution_count": null,
   "metadata": {},
   "outputs": [],
   "source": []
  },
  {
   "cell_type": "code",
   "execution_count": null,
   "metadata": {},
   "outputs": [],
   "source": []
  },
  {
   "cell_type": "code",
   "execution_count": null,
   "metadata": {},
   "outputs": [],
   "source": []
  },
  {
   "cell_type": "code",
   "execution_count": null,
   "metadata": {},
   "outputs": [],
   "source": []
  }
 ],
 "metadata": {
  "kernelspec": {
   "display_name": "Python 3",
   "language": "python",
   "name": "python3"
  },
  "language_info": {
   "codemirror_mode": {
    "name": "ipython",
    "version": 3
   },
   "file_extension": ".py",
   "mimetype": "text/x-python",
   "name": "python",
   "nbconvert_exporter": "python",
   "pygments_lexer": "ipython3",
   "version": "3.7.4"
  }
 },
 "nbformat": 4,
 "nbformat_minor": 2
}
